{
 "cells": [
  {
   "cell_type": "markdown",
   "metadata": {},
   "source": [
    "## Parallel machine scheduling problem (PMSP)-II\n",
    "\n",
    "### Summary\n",
    "There are M parallel machines and N to-do jobs. Each job is integrated with a release time and process time. The goal is to minimize the total completion time of all jobs. The (integer) discrete time model is used.\n",
    "\n",
    "### Sets\n",
    "- $\\mathcal{S}_M$ = set of machines, initialize with machine ids; \n",
    "- $\\mathcal{S}_J$ = set of jobs, initialize with job ids;\n",
    "- $\\mathcal{S}_{time}$ = set of discrete time in integer: $TB\\times 1$;\n",
    "  - $TB$ can be estimated from approximate algorithm;\n",
    "\n",
    "### Parameters\n",
    "- $t^r_i$ : Release time of jobs $N\\times1$;\n",
    "- $t^p_i$ : Process time of jobs $N\\times1$; \n",
    "- $t^A_k$ : Available time of machines $M\\times1$;\n",
    "- $N$ number of jobs;\n",
    "- $M$ number of machines;\n",
    "### Variables\n",
    "- $t^c_{i}$ complete time of job $i\\in \\mathcal{S}_J$;\n",
    "- $\\chi_{ikt}$: a binary value if job $i$ is scheduled on machine $k$ and processed at time $t$, $N\\times M\\times TB$;\n",
    "\n",
    "\n",
    "### Objectives\n",
    "- minimize total completion time:\n",
    "    $\\sum_i^N t^c_{i}$\n",
    "\n",
    "\n",
    "### Constraints\n",
    "- One job can only be processed by one machine: $\\sum_{k=0}^M\\sum_{max(0, t-t_i^p)}^t \\chi_{ikt}\\leq1, \\forall i\\in N$(C1)\n",
    "- One job do once: $\\sum^M_{k=0}\\sum^{TB}_{t=0} \\chi_{ikt} = 1, \\forall i \\in J$ (C2)\n",
    "- Release constraint: $\\sum_k^M\\sum_t^{t^r_i-1}\\chi_{ikt}=0 \\ \\forall i \\in J$ (C3)\n",
    "- Machine available time constraint: $\\sum_i^N\\sum_t^{t^r_i-1}\\chi_{ikt}=0, \\forall k\\in M$ (C4)\n",
    "- Completion time requirements: $\\sum_k^M\\sum_t^{TB}(t+t_i^p+t_k^A)\\chi_{ikt}= t^C_i, \\forall i\\in J$ (C5)."
   ]
  },
  {
   "cell_type": "code",
   "execution_count": null,
   "metadata": {},
   "outputs": [],
   "source": []
  }
 ],
 "metadata": {
  "kernelspec": {
   "display_name": "Python [conda env:py36]",
   "language": "python",
   "name": "conda-env-py36-py"
  },
  "language_info": {
   "codemirror_mode": {
    "name": "ipython",
    "version": 3
   },
   "file_extension": ".py",
   "mimetype": "text/x-python",
   "name": "python",
   "nbconvert_exporter": "python",
   "pygments_lexer": "ipython3",
   "version": "3.6.4"
  }
 },
 "nbformat": 4,
 "nbformat_minor": 2
}
